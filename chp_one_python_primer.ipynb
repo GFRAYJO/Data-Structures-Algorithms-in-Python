{
 "metadata": {
  "name": "",
  "signature": "sha256:d15bf80b23de40b85bf942f1cddf26de13b49bae2c8f29ede7565f80580bf94d"
 },
 "nbformat": 3,
 "nbformat_minor": 0,
 "worksheets": [
  {
   "cells": [
    {
     "cell_type": "heading",
     "level": 2,
     "metadata": {},
     "source": [
      "Exercise 1 : Python Primer"
     ]
    },
    {
     "cell_type": "markdown",
     "metadata": {},
     "source": [
      "1.1) Write a short Python function, is multiple(n, m), that takes two integer\n",
      "values and returns True if n is a multiple of m, that is, n = mi for some\n",
      "integer i, and False otherwise."
     ]
    },
    {
     "cell_type": "code",
     "collapsed": false,
     "input": [
      "def is_multiple(n,m):\n",
      "    \"\"\" Checks if n is a factor of m where n <= m \"\"\"\n",
      "    try:\n",
      "        if m%n == 0:\n",
      "            print \"Yes! {0} is a factor of {1}\".format(n,m)\n",
      "        else:\n",
      "            print(\"\\n Nope! {0} is NOT a factor of {1}\".format(n,m))\n",
      "    except Exception as excpt:\n",
      "        print \"Error!\", excpt\n",
      "    return\n",
      "        \n",
      "\n",
      "is_multiple(15,3)"
     ],
     "language": "python",
     "metadata": {},
     "outputs": [
      {
       "output_type": "stream",
       "stream": "stdout",
       "text": [
        "\n",
        " Nope! 15 is NOT a factor of 3\n"
       ]
      }
     ],
     "prompt_number": 18
    },
    {
     "cell_type": "markdown",
     "metadata": {},
     "source": [
      "1.2) Write a short Python function, is even(k), that takes an integer value and\n",
      "returns True if k is even, and False otherwise. <em>However, your function\n",
      "cannot use the multiplication, modulo, or division operators.</em>"
     ]
    },
    {
     "cell_type": "code",
     "collapsed": false,
     "input": [
      "invalue = input(\"Enter a value to check > \")\n",
      "\n",
      "print(\"\\nBam! %d is Even!\\n\"%invalue if (-1)**invalue == 1 else \"No way! %d is not even.\\n\" %invalue)\n",
      "\n",
      "print(\"Yeah, it's Even number!\\n\" if invalue%2 == 0 else \"No way! It's not.\\n\")"
     ],
     "language": "python",
     "metadata": {},
     "outputs": [
      {
       "name": "stdout",
       "output_type": "stream",
       "stream": "stdout",
       "text": [
        "Enter a value to check > 5\n"
       ]
      },
      {
       "output_type": "stream",
       "stream": "stdout",
       "text": [
        "No way! 5 is not even.\n",
        "\n",
        "No way! It's not.\n",
        "\n"
       ]
      }
     ],
     "prompt_number": 30
    },
    {
     "cell_type": "markdown",
     "metadata": {},
     "source": [
      "1.3) Write a short Python function, minmax(data), that takes a sequence of\n",
      "one or more numbers, and returns the smallest and largest numbers, in the\n",
      "form of a tuple of length two. <em>Do not use the built-in functions min or\n",
      "max in implementing your solution.</em>"
     ]
    },
    {
     "cell_type": "code",
     "collapsed": false,
     "input": [
      "def minimaxi():\n",
      "    \"\"\" Returns the minimum and maximum from the list \"\"\"\n",
      "    \n",
      "    try:\n",
      "        data = input(\"Enter a list of any input > \")\n",
      "        smally = biggy = data[0]\n",
      "        for n in data:\n",
      "            if n >= biggy:\n",
      "                biggy = n\n",
      "            elif n <= smally:\n",
      "                smally = n\n",
      "            else: pass\n",
      "        print (smally,biggy)\n",
      "    except Exception as excpt:\n",
      "        print \"\\nBad input found. \", excpt\n",
      "    return\n",
      "        \n",
      "minimaxi()"
     ],
     "language": "python",
     "metadata": {},
     "outputs": [
      {
       "name": "stdout",
       "output_type": "stream",
       "stream": "stdout",
       "text": [
        "Enter a list of any input > 4,1,2,0,8,7,5,4,9,2,5,6,4\n"
       ]
      },
      {
       "output_type": "stream",
       "stream": "stdout",
       "text": [
        "(0, 9)\n"
       ]
      }
     ],
     "prompt_number": 4
    },
    {
     "cell_type": "markdown",
     "metadata": {},
     "source": [
      "1.4) Write a short Python function that takes a positive integer n and returns\n",
      "the sum of the squares of all the positive integers smaller than n."
     ]
    },
    {
     "cell_type": "code",
     "collapsed": false,
     "input": [
      "def sumsquare():\n",
      "    ''' Returns sum of square of all positive numbers less than n '''\n",
      "    sqrsum = 0\n",
      "    try:\n",
      "        inpdata = input(\"Enter a number > \")\n",
      "        if not isinstance(inpdata,int):\n",
      "            print(\"input value must be integer\")\n",
      "        elif inpdata <= 2:\n",
      "            print (\"Sum of square is 1\")\n",
      "        else:\n",
      "            for k in range(inpdata):\n",
      "                sqrsum += k**2\n",
      "            print(\"\\n\\nSum of square of element < %d is %d \" % (inpdata,sqrsum))\n",
      "    except Exception as excpt:\n",
      "        print \"Yikees! \", excpt\n",
      "    return\n",
      "\n",
      "\n",
      "\n",
      "sumsquare()\n"
     ],
     "language": "python",
     "metadata": {},
     "outputs": [
      {
       "name": "stdout",
       "output_type": "stream",
       "stream": "stdout",
       "text": [
        "Enter a number > 7\n"
       ]
      },
      {
       "output_type": "stream",
       "stream": "stdout",
       "text": [
        "\n",
        "\n",
        "Sum of square of element < 7 is 91 \n"
       ]
      }
     ],
     "prompt_number": 21
    },
    {
     "cell_type": "markdown",
     "metadata": {},
     "source": [
      "1.5) Give a single command that computes the sum from Exercise R-1.4, relying\n",
      "on Python\u2019s comprehension syntax and the built-in sum function."
     ]
    },
    {
     "cell_type": "code",
     "collapsed": false,
     "input": [
      "sum([k**2 for k in range(5)])"
     ],
     "language": "python",
     "metadata": {},
     "outputs": [
      {
       "metadata": {},
       "output_type": "pyout",
       "prompt_number": 24,
       "text": [
        "30"
       ]
      }
     ],
     "prompt_number": 24
    },
    {
     "cell_type": "markdown",
     "metadata": {},
     "source": [
      "1.11) Demonstrate how to use Python\u2019s list comprehension syntax to produce\n",
      "the list [1, 2, 4, 8, 16, 32, 64, 128, 256]."
     ]
    },
    {
     "cell_type": "code",
     "collapsed": false,
     "input": [
      "[2**k for k in range(input(\"Enter a number > \"))]"
     ],
     "language": "python",
     "metadata": {},
     "outputs": [
      {
       "name": "stdout",
       "output_type": "stream",
       "stream": "stdout",
       "text": [
        "Enter a number > 10\n"
       ]
      },
      {
       "metadata": {},
       "output_type": "pyout",
       "prompt_number": 28,
       "text": [
        "[1, 2, 4, 8, 16, 32, 64, 128, 256, 512]"
       ]
      }
     ],
     "prompt_number": 28
    },
    {
     "cell_type": "code",
     "collapsed": false,
     "input": [
      "import random\n",
      "\n",
      "print random.choice(range(5))\n",
      "print random.randrange(1,5)"
     ],
     "language": "python",
     "metadata": {},
     "outputs": [
      {
       "output_type": "stream",
       "stream": "stdout",
       "text": [
        "0\n",
        "3\n"
       ]
      }
     ],
     "prompt_number": 46
    },
    {
     "cell_type": "markdown",
     "metadata": {},
     "source": [
      "1.19) Demonstrate how to use Python\u2019s list comprehension syntax to produce\n",
      "the list [ a , b , c , ..., z ], but without having to type all 26 such\n",
      "characters literally."
     ]
    },
    {
     "cell_type": "code",
     "collapsed": false,
     "input": [
      "import string\n",
      "\n",
      "alphalower = list(string.ascii_lowercase)\n",
      "\n",
      "print alphalower"
     ],
     "language": "python",
     "metadata": {},
     "outputs": [
      {
       "output_type": "stream",
       "stream": "stdout",
       "text": [
        "['a', 'b', 'c', 'd', 'e', 'f', 'g', 'h', 'i', 'j', 'k', 'l', 'm', 'n', 'o', 'p', 'q', 'r', 's', 't', 'u', 'v', 'w', 'x', 'y', 'z']\n"
       ]
      }
     ],
     "prompt_number": 53
    },
    {
     "cell_type": "markdown",
     "metadata": {},
     "source": [
      "1.29 Write a Python program that outputs all possible strings formed by using\n",
      "the characters c , a , t , d , o , and g exactly once. (Incomplete)"
     ]
    },
    {
     "cell_type": "code",
     "collapsed": false,
     "input": [
      "import random\n",
      "\n",
      "alplist = ['c','a','t','d','o','g']\n",
      "\n",
      "random.shuffle(alplist)\n",
      "\n",
      "alplist"
     ],
     "language": "python",
     "metadata": {},
     "outputs": [
      {
       "metadata": {},
       "output_type": "pyout",
       "prompt_number": 60,
       "text": [
        "['t', 'o', 'a', 'd', 'c', 'g']"
       ]
      }
     ],
     "prompt_number": 60
    },
    {
     "cell_type": "code",
     "collapsed": false,
     "input": [],
     "language": "python",
     "metadata": {},
     "outputs": []
    }
   ],
   "metadata": {}
  }
 ]
}